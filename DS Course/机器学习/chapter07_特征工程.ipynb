{
  "nbformat": 4,
  "nbformat_minor": 0,
  "metadata": {
    "colab": {
      "provenance": [],
      "authorship_tag": "ABX9TyN7itSI/rbpzKNnE1z5iooG",
      "include_colab_link": true
    },
    "kernelspec": {
      "name": "python3",
      "display_name": "Python 3"
    },
    "language_info": {
      "name": "python"
    }
  },
  "cells": [
    {
      "cell_type": "markdown",
      "metadata": {
        "id": "view-in-github",
        "colab_type": "text"
      },
      "source": [
        "<a href=\"https://colab.research.google.com/github/jiru1997/Best-websites-a-programmer-should-visit-zh/blob/master/DS%20Course/%E6%9C%BA%E5%99%A8%E5%AD%A6%E4%B9%A0/chapter07_%E7%89%B9%E5%BE%81%E5%B7%A5%E7%A8%8B.ipynb\" target=\"_parent\"><img src=\"https://colab.research.google.com/assets/colab-badge.svg\" alt=\"Open In Colab\"/></a>"
      ]
    },
    {
      "cell_type": "markdown",
      "source": [
        "# chapter07_特征工程"
      ],
      "metadata": {
        "id": "ca0ijr50ngrD"
      }
    },
    {
      "cell_type": "code",
      "execution_count": null,
      "metadata": {
        "id": "MEPTKVgFhJhx"
      },
      "outputs": [],
      "source": []
    }
  ]
}