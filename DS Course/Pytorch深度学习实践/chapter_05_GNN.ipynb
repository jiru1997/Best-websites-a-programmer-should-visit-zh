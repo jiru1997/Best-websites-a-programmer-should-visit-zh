{
  "nbformat": 4,
  "nbformat_minor": 0,
  "metadata": {
    "colab": {
      "provenance": [],
      "authorship_tag": "ABX9TyMV5UDbGBDUAPPEI5cz5xhJ",
      "include_colab_link": true
    },
    "kernelspec": {
      "name": "python3",
      "display_name": "Python 3"
    },
    "language_info": {
      "name": "python"
    }
  },
  "cells": [
    {
      "cell_type": "markdown",
      "metadata": {
        "id": "view-in-github",
        "colab_type": "text"
      },
      "source": [
        "<a href=\"https://colab.research.google.com/github/jiru1997/Best-websites-a-programmer-should-visit-zh/blob/master/DS%20Course/Pytorch%E6%B7%B1%E5%BA%A6%E5%AD%A6%E4%B9%A0%E5%AE%9E%E8%B7%B5/chapter_05_GNN.ipynb\" target=\"_parent\"><img src=\"https://colab.research.google.com/assets/colab-badge.svg\" alt=\"Open In Colab\"/></a>"
      ]
    },
    {
      "cell_type": "markdown",
      "source": [
        "# GAN\n",
        "* 生成模型：给定训练数据，从相同的数据分布中生成新的样本。\n",
        "  * PixeIRNN/CNN：逐像素生成/从图像拐角处生成整个图像\n",
        "  * 自动编码器（AE）:编解码重构输入数据\n",
        "  * 变分自动编码器（VAE）：向自编码器加入随机因子获得的一种模型\n",
        "  * 生成对抗网络 (GAN)：采用博弈论的方法\n",
        "\n",
        "* 常见的 GAN\n",
        "  * Generative Adversarial Networks\n",
        "  * DCGAN\n",
        "  * Improved Techniques for Training GANs\n",
        "  * Conditional GANs\n",
        "  * Progressively Growing GANs\n",
        "  * BigGAN\n",
        "  * StyleGAN\n",
        "  * CycleGAN\n",
        "  * StackGAN\n"
      ],
      "metadata": {
        "id": "RJsvkWE1skya"
      }
    },
    {
      "cell_type": "code",
      "execution_count": 1,
      "metadata": {
        "id": "hTUh9Op0shCU"
      },
      "outputs": [],
      "source": [
        "import torch\n",
        "import torchvision\n",
        "import torchvision.transforms as transforms\n",
        "from torch.utils.data import DataLoader, Dataset\n",
        "import torch.nn as nn\n",
        "import torch.nn.functional as F"
      ]
    },
    {
      "cell_type": "code",
      "source": [
        "!git clone https://github.com/junyanz/pytorch-CycleGAN-and-pix2pix"
      ],
      "metadata": {
        "colab": {
          "base_uri": "https://localhost:8080/"
        },
        "id": "-XcJpW8PzT-x",
        "outputId": "333c39a5-64df-4e96-f62d-3fdcde47ae51"
      },
      "execution_count": 4,
      "outputs": [
        {
          "output_type": "stream",
          "name": "stdout",
          "text": [
            "Cloning into 'pytorch-CycleGAN-and-pix2pix'...\n",
            "remote: Enumerating objects: 2513, done.\u001b[K\n",
            "remote: Total 2513 (delta 0), reused 0 (delta 0), pack-reused 2513\u001b[K\n",
            "Receiving objects: 100% (2513/2513), 8.20 MiB | 27.60 MiB/s, done.\n",
            "Resolving deltas: 100% (1575/1575), done.\n"
          ]
        }
      ]
    },
    {
      "cell_type": "code",
      "source": [
        "cd pytorch-CycleGAN-and-pix2pix"
      ],
      "metadata": {
        "colab": {
          "base_uri": "https://localhost:8080/"
        },
        "id": "RrvOXQCt0iGc",
        "outputId": "9b19f356-af97-45e0-8568-7c48f4294fa9"
      },
      "execution_count": 10,
      "outputs": [
        {
          "output_type": "stream",
          "name": "stdout",
          "text": [
            "/content/pytorch-CycleGAN-and-pix2pix\n"
          ]
        }
      ]
    },
    {
      "cell_type": "code",
      "source": [
        "!bash ./datasets/download_cyclegan_dataset.sh apple2orange"
      ],
      "metadata": {
        "id": "C7l2sEO6yi04"
      },
      "execution_count": null,
      "outputs": []
    },
    {
      "cell_type": "code",
      "source": [],
      "metadata": {
        "id": "lIEhgHi4xx24"
      },
      "execution_count": null,
      "outputs": []
    }
  ]
}